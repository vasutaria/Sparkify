{
 "cells": [
  {
   "cell_type": "markdown",
   "metadata": {},
   "source": [
    "# Sparkify Project Workspace\n",
    "This workspace contains a tiny subset (128MB) of the full dataset available (12GB). Feel free to use this workspace to build your project, or to explore a smaller subset with Spark before deploying your cluster on the cloud. Instructions for setting up your Spark cluster is included in the last lesson of the Extracurricular Spark Course content.\n",
    "\n",
    "You can follow the steps below to guide your data analysis and model building portion of this project."
   ]
  },
  {
   "cell_type": "code",
   "execution_count": 200,
   "metadata": {},
   "outputs": [],
   "source": [
    "# import libraries\n",
    "# import pyspark related libraries\n",
    "from pyspark.sql import SparkSession\n",
    "from pyspark.sql.functions import avg, col, concat, desc, explode, lit, min, max, split, udf\n",
    "from pyspark.sql.functions import sum as Fsum\n",
    "from pyspark.sql.types import IntegerType\n",
    "from pyspark.sql import Window\n",
    "import pyspark.sql.types as psqt\n",
    "import pyspark.sql.functions as psqf\n",
    "\n",
    "from pyspark.ml import Pipeline\n",
    "from pyspark.ml.classification import LogisticRegression, GBTClassifier,LinearSVC, RandomForestClassifier\n",
    "from pyspark.ml.evaluation import MulticlassClassificationEvaluator\n",
    "from pyspark.ml.feature import StandardScaler, VectorAssembler\n",
    "from pyspark.ml.tuning import CrossValidator, ParamGridBuilder\n",
    "from pyspark.ml.feature import IndexToString, StringIndexer, VectorIndexer\n",
    "from pyspark.ml.classification import RandomForestClassifier\n",
    "from pyspark.mllib.util import MLUtils\n",
    "\n",
    "\n",
    "\n",
    "# import pandas, matplotlib, and seaborn for visualization and EDA\n",
    "import pandas as pd\n",
    "import numpy as np\n",
    "import matplotlib.pyplot as plt\n",
    "import seaborn as sns\n",
    "\n",
    "# import datetime for parsing datetime object\n",
    "import datetime\n",
    "\n",
    "from time import time"
   ]
  },
  {
   "cell_type": "code",
   "execution_count": 201,
   "metadata": {},
   "outputs": [],
   "source": [
    "# create a Spark session\n",
    "\n",
    "spark = SparkSession.builder.appName(\"sparkify_churn\").getOrCreate()"
   ]
  },
  {
   "cell_type": "markdown",
   "metadata": {},
   "source": [
    "# Load and Clean Dataset\n",
    "In this workspace, the mini-dataset file is `mini_sparkify_event_data.json`. Load and clean the dataset, checking for invalid or missing data - for example, records without userids or sessionids. "
   ]
  },
  {
   "cell_type": "code",
   "execution_count": 202,
   "metadata": {},
   "outputs": [],
   "source": [
    "data_location = \"mini_sparkify_event_data.json\"\n",
    "event = spark.read.json(data_location)\n",
    "df = event"
   ]
  },
  {
   "cell_type": "code",
   "execution_count": 203,
   "metadata": {},
   "outputs": [
    {
     "name": "stdout",
     "output_type": "stream",
     "text": [
      "+--------------+---------+---------+------+-------------+--------+---------+-----+---------------+------+--------+-------------+---------+---------+------+-------------+--------------------+------+\n",
      "|        artist|     auth|firstName|gender|itemInSession|lastName|   length|level|       location|method|    page| registration|sessionId|     song|status|           ts|           userAgent|userId|\n",
      "+--------------+---------+---------+------+-------------+--------+---------+-----+---------------+------+--------+-------------+---------+---------+------+-------------+--------------------+------+\n",
      "|Martha Tilston|Logged In|    Colin|     M|           50| Freeman|277.89016| paid|Bakersfield, CA|   PUT|NextSong|1538173362000|       29|Rockpools|   200|1538352117000|Mozilla/5.0 (Wind...|    30|\n",
      "+--------------+---------+---------+------+-------------+--------+---------+-----+---------------+------+--------+-------------+---------+---------+------+-------------+--------------------+------+\n",
      "only showing top 1 row\n",
      "\n"
     ]
    }
   ],
   "source": [
    "df.show(1)"
   ]
  },
  {
   "cell_type": "code",
   "execution_count": 204,
   "metadata": {},
   "outputs": [
    {
     "name": "stdout",
     "output_type": "stream",
     "text": [
      "root\n",
      " |-- artist: string (nullable = true)\n",
      " |-- auth: string (nullable = true)\n",
      " |-- firstName: string (nullable = true)\n",
      " |-- gender: string (nullable = true)\n",
      " |-- itemInSession: long (nullable = true)\n",
      " |-- lastName: string (nullable = true)\n",
      " |-- length: double (nullable = true)\n",
      " |-- level: string (nullable = true)\n",
      " |-- location: string (nullable = true)\n",
      " |-- method: string (nullable = true)\n",
      " |-- page: string (nullable = true)\n",
      " |-- registration: long (nullable = true)\n",
      " |-- sessionId: long (nullable = true)\n",
      " |-- song: string (nullable = true)\n",
      " |-- status: long (nullable = true)\n",
      " |-- ts: long (nullable = true)\n",
      " |-- userAgent: string (nullable = true)\n",
      " |-- userId: string (nullable = true)\n",
      "\n"
     ]
    }
   ],
   "source": [
    "df.printSchema()"
   ]
  },
  {
   "cell_type": "code",
   "execution_count": 205,
   "metadata": {},
   "outputs": [
    {
     "name": "stdout",
     "output_type": "stream",
     "text": [
      "Submit Downgrade\n",
      "Thumbs Down\n",
      "Submit Upgrade\n",
      "NextSong\n",
      "Roll Advert\n",
      "Cancel\n",
      "Downgrade\n",
      "Logout\n",
      "Add to Playlist\n",
      "Save Settings\n",
      "Add Friend\n",
      "Cancellation Confirmation\n",
      "Settings\n",
      "Thumbs Up\n",
      "Upgrade\n"
     ]
    }
   ],
   "source": [
    "#available page options\n",
    "# filter for users with blank user id\n",
    "blank_pages = df.filter(df.userId == '') \\\n",
    "    .select(col('page') \\\n",
    "    .alias('blank_pages')) \\\n",
    "    .dropDuplicates()\n",
    "\n",
    "# get a list of possible pages that could be visited\n",
    "all_pages = df.select('page').dropDuplicates()\n",
    "\n",
    "# find values in all_pages that are not in blank_pages\n",
    "# these are the pages that the blank user did not go to\n",
    "for row in set(all_pages.collect()) - set(blank_pages.collect()):\n",
    "    print(row.page)"
   ]
  },
  {
   "cell_type": "code",
   "execution_count": 206,
   "metadata": {},
   "outputs": [
    {
     "name": "stdout",
     "output_type": "stream",
     "text": [
      "+----------------------+-------------------------+\n",
      "|count(DISTINCT userId)|count(DISTINCT sessionId)|\n",
      "+----------------------+-------------------------+\n",
      "|                   226|                     2354|\n",
      "+----------------------+-------------------------+\n",
      "\n"
     ]
    }
   ],
   "source": [
    "#check the number of user id and number os session id\n",
    "df.agg(psqf.countDistinct('userId'), psqf.countDistinct('sessionId')).show()"
   ]
  },
  {
   "cell_type": "code",
   "execution_count": 207,
   "metadata": {},
   "outputs": [
    {
     "data": {
      "text/plain": [
       "104"
      ]
     },
     "execution_count": 207,
     "metadata": {},
     "output_type": "execute_result"
    }
   ],
   "source": [
    "#How many female users do we have in the data set?\n",
    "df.filter(df.gender == 'F') \\\n",
    "    .select('userId', 'gender') \\\n",
    "    .dropDuplicates() \\\n",
    "    .count()"
   ]
  },
  {
   "cell_type": "code",
   "execution_count": 208,
   "metadata": {},
   "outputs": [
    {
     "name": "stdout",
     "output_type": "stream",
     "text": [
      "+--------------------+-----------+\n",
      "|              Artist|Artistcount|\n",
      "+--------------------+-----------+\n",
      "|       Kings Of Leon|       1841|\n",
      "|            Coldplay|       1813|\n",
      "|Florence + The Ma...|       1236|\n",
      "|       Dwight Yoakam|       1135|\n",
      "|            BjÃÂ¶rk|       1133|\n",
      "+--------------------+-----------+\n",
      "only showing top 5 rows\n",
      "\n"
     ]
    }
   ],
   "source": [
    "#How many songs were played from the top 5 played artist?\n",
    "df.filter(df.page == 'NextSong') \\\n",
    "    .select('Artist') \\\n",
    "    .groupBy('Artist') \\\n",
    "    .agg({'Artist':'count'}) \\\n",
    "    .withColumnRenamed('count(Artist)', 'Artistcount') \\\n",
    "    .sort(desc('Artistcount')) \\\n",
    "    .show(5)"
   ]
  },
  {
   "cell_type": "code",
   "execution_count": 209,
   "metadata": {},
   "outputs": [
    {
     "name": "stdout",
     "output_type": "stream",
     "text": [
      "+------------------+\n",
      "|avg(count(period))|\n",
      "+------------------+\n",
      "| 23.60389072847682|\n",
      "+------------------+\n",
      "\n"
     ]
    }
   ],
   "source": [
    "#How many songs do users listen to on average between visiting our home page? Please round your answer to the closest integer.\n",
    "# TODO: filter out 0 sum and max sum to get more exact answer\n",
    "\n",
    "function = udf(lambda ishome : int(ishome == 'Home'), IntegerType())\n",
    "\n",
    "user_window = Window \\\n",
    "    .partitionBy('userID') \\\n",
    "    .orderBy(desc('ts')) \\\n",
    "    .rangeBetween(Window.unboundedPreceding, 0)\n",
    "\n",
    "cusum = df.filter((df.page == 'NextSong') | (df.page == 'Home')) \\\n",
    "    .select('userID', 'page', 'ts') \\\n",
    "    .withColumn('homevisit', function(col('page'))) \\\n",
    "    .withColumn('period', Fsum('homevisit').over(user_window))\n",
    "\n",
    "cusum.filter((cusum.page == 'NextSong')) \\\n",
    "    .groupBy('userID', 'period') \\\n",
    "    .agg({'period':'count'}) \\\n",
    "    .agg({'count(period)':'avg'}).show()"
   ]
  },
  {
   "cell_type": "code",
   "execution_count": 210,
   "metadata": {},
   "outputs": [
    {
     "name": "stdout",
     "output_type": "stream",
     "text": [
      "+-----+-----------+\n",
      "|level|level_count|\n",
      "+-----+-----------+\n",
      "| free|      58338|\n",
      "| paid|     228162|\n",
      "+-----+-----------+\n",
      "\n"
     ]
    }
   ],
   "source": [
    "#df.select('level').distinct().show()\n",
    "level_counts= df.groupby('level').agg({'level':'count'}).withColumnRenamed(\"count(level)\", \"level_count\").show()\n"
   ]
  },
  {
   "cell_type": "code",
   "execution_count": 211,
   "metadata": {},
   "outputs": [
    {
     "name": "stdout",
     "output_type": "stream",
     "text": [
      "+------+\n",
      "|status|\n",
      "+------+\n",
      "|   307|\n",
      "|   404|\n",
      "|   200|\n",
      "+------+\n",
      "\n"
     ]
    }
   ],
   "source": [
    "df.dtypes\n",
    "df.select('status').distinct().show()"
   ]
  },
  {
   "cell_type": "code",
   "execution_count": 212,
   "metadata": {},
   "outputs": [
    {
     "name": "stdout",
     "output_type": "stream",
     "text": [
      "+--------------------+----------+\n",
      "|                page|page_count|\n",
      "+--------------------+----------+\n",
      "|              Cancel|        52|\n",
      "|    Submit Downgrade|        63|\n",
      "|         Thumbs Down|      2546|\n",
      "|                Home|     14457|\n",
      "|           Downgrade|      2055|\n",
      "|         Roll Advert|      3933|\n",
      "|              Logout|      3226|\n",
      "|       Save Settings|       310|\n",
      "|Cancellation Conf...|        52|\n",
      "|               About|       924|\n",
      "| Submit Registration|         5|\n",
      "|            Settings|      1514|\n",
      "|               Login|      3241|\n",
      "|            Register|        18|\n",
      "|     Add to Playlist|      6526|\n",
      "|          Add Friend|      4277|\n",
      "|            NextSong|    228108|\n",
      "|           Thumbs Up|     12551|\n",
      "|                Help|      1726|\n",
      "|             Upgrade|       499|\n",
      "+--------------------+----------+\n",
      "only showing top 20 rows\n",
      "\n"
     ]
    }
   ],
   "source": [
    "page_counts= df.groupby('page').agg({'page':'count'}).withColumnRenamed(\"count(page)\", \"page_count\").show()\n",
    "page_events = df.groupby('page').count().sort('count', ascending=False).toPandas().set_index('page')"
   ]
  },
  {
   "cell_type": "code",
   "execution_count": 213,
   "metadata": {},
   "outputs": [
    {
     "data": {
      "text/plain": [
       "Text(0, 0.5, 'Event Name')"
      ]
     },
     "execution_count": 213,
     "metadata": {},
     "output_type": "execute_result"
    },
    {
     "data": {
      "image/png": "[encoded data removed]",
      "text/plain": [
       "<Figure size 576x720 with 1 Axes>"
      ]
     },
     "metadata": {
      "needs_background": "light"
     },
     "output_type": "display_data"
    }
   ],
   "source": [
    "plt.figure(figsize=(8,10))\n",
    "\n",
    "g = sns.barplot(\n",
    "    x=page_events['count'],\n",
    "    y=page_events.index,\n",
    "    color='black',\n",
    "    log=True\n",
    ")\n",
    "\n",
    "g.set_title('Event Counts')\n",
    "g.set_xlabel('Log(count)')\n",
    "g.set_ylabel('Event Name')"
   ]
  },
  {
   "cell_type": "raw",
   "metadata": {},
   "source": [
    "Looks like the nextsong was the most popular page"
   ]
  },
  {
   "cell_type": "code",
   "execution_count": 214,
   "metadata": {},
   "outputs": [
    {
     "name": "stdout",
     "output_type": "stream",
     "text": [
      "+-------------+\n",
      "|itemInSession|\n",
      "+-------------+\n",
      "|           26|\n",
      "|           29|\n",
      "|          474|\n",
      "|          964|\n",
      "|           65|\n",
      "|          191|\n",
      "|          418|\n",
      "|          541|\n",
      "|          558|\n",
      "|         1010|\n",
      "|         1224|\n",
      "|         1258|\n",
      "|         1277|\n",
      "|          222|\n",
      "|          270|\n",
      "|          293|\n",
      "|          730|\n",
      "|          938|\n",
      "|         1127|\n",
      "|         1145|\n",
      "+-------------+\n",
      "only showing top 20 rows\n",
      "\n",
      "+-------------+\n",
      "| Registration|\n",
      "+-------------+\n",
      "|1529027541000|\n",
      "|1533192032000|\n",
      "|1537779419000|\n",
      "|1534627466000|\n",
      "|1535389443000|\n",
      "|1536642109000|\n",
      "|1537167593000|\n",
      "|1536854322000|\n",
      "|1533908361000|\n",
      "|1536817381000|\n",
      "|1536663902000|\n",
      "|1537672236000|\n",
      "|1536956945000|\n",
      "|1537611935000|\n",
      "|1537751138000|\n",
      "|1533532298000|\n",
      "|1537057938000|\n",
      "|1537964483000|\n",
      "|1528772084000|\n",
      "|1537440271000|\n",
      "+-------------+\n",
      "only showing top 20 rows\n",
      "\n",
      "+------+\n",
      "|method|\n",
      "+------+\n",
      "|   PUT|\n",
      "|   GET|\n",
      "+------+\n",
      "\n"
     ]
    }
   ],
   "source": [
    "df.select('itemInSession').distinct().show() \n",
    "df.select('Registration').distinct().show()\n",
    "df.select('method').distinct().show()"
   ]
  },
  {
   "cell_type": "raw",
   "metadata": {},
   "source": [
    "In this section we will review the cancellation logs and downgrades. we will analyse the downgrade page by looking at how many of the customers who have downgraded have also cancelled thier subscriptions. The registrationId uniquely identifies each customer."
   ]
  },
  {
   "cell_type": "code",
   "execution_count": 215,
   "metadata": {},
   "outputs": [
    {
     "name": "stdout",
     "output_type": "stream",
     "text": [
      "+------+-------------------------+---------+--------+-------------+---------+\n",
      "|userID|page                     |firstName|lastName|ts           |auth     |\n",
      "+------+-------------------------+---------+--------+-------------+---------+\n",
      "|18    |Cancel                   |Adriel   |Mendoza |1538943740000|Logged In|\n",
      "|18    |Cancellation Confirmation|Adriel   |Mendoza |1538943990000|Cancelled|\n",
      "|32    |Cancel                   |Diego    |Mckee   |1539033031000|Logged In|\n",
      "|32    |Cancellation Confirmation|Diego    |Mckee   |1539033046000|Cancelled|\n",
      "|125   |Cancel                   |Mason    |Hart    |1539318918000|Logged In|\n",
      "+------+-------------------------+---------+--------+-------------+---------+\n",
      "only showing top 5 rows\n",
      "\n"
     ]
    }
   ],
   "source": [
    "cancel_logs = df.filter(psqf.col('page').isin(['Cancel','Cancellation Confirmation'])).select(['userID','page', 'firstName', 'lastName','ts', 'auth'])\n",
    "cancel_logs.show(5, False)"
   ]
  },
  {
   "cell_type": "code",
   "execution_count": 216,
   "metadata": {},
   "outputs": [
    {
     "name": "stdout",
     "output_type": "stream",
     "text": [
      "104 52\n"
     ]
    }
   ],
   "source": [
    "cancel_registration_ids  = [c['userID'] for c in cancel_logs.select('userID').collect()]\n",
    "print(len(cancel_registration_ids), len(set(cancel_registration_ids)))"
   ]
  },
  {
   "cell_type": "code",
   "execution_count": 217,
   "metadata": {},
   "outputs": [
    {
     "name": "stdout",
     "output_type": "stream",
     "text": [
      "+------+---------+---------+--------+-------------+---------+\n",
      "|userID|page     |firstName|lastName|ts           |auth     |\n",
      "+------+---------+---------+--------+-------------+---------+\n",
      "|54    |Downgrade|Alexi    |Warren  |1538354749000|Logged In|\n",
      "|95    |Downgrade|Faigy    |Howe    |1538373286000|Logged In|\n",
      "|95    |Downgrade|Faigy    |Howe    |1538392612000|Logged In|\n",
      "|131   |Downgrade|Kael     |Baker   |1538393618000|Logged In|\n",
      "|95    |Downgrade|Faigy    |Howe    |1538393664000|Logged In|\n",
      "+------+---------+---------+--------+-------------+---------+\n",
      "only showing top 5 rows\n",
      "\n"
     ]
    }
   ],
   "source": [
    "#customer that downgraded\n",
    "downgrade_logs = df.filter(psqf.col('page').isin(['Downgrade']))\n",
    "downgrade_logs.select(['userID','page', 'firstName', 'lastName','ts', 'auth']).show(5, False)"
   ]
  },
  {
   "cell_type": "code",
   "execution_count": 218,
   "metadata": {},
   "outputs": [
    {
     "name": "stdout",
     "output_type": "stream",
     "text": [
      "2055 154\n"
     ]
    }
   ],
   "source": [
    "downgrade_registration_ids  = [c['userID'] for c in downgrade_logs.select('userID').collect()]\n",
    "print(len(downgrade_registration_ids), len(set(downgrade_registration_ids)))"
   ]
  },
  {
   "cell_type": "code",
   "execution_count": 219,
   "metadata": {},
   "outputs": [
    {
     "name": "stdout",
     "output_type": "stream",
     "text": [
      "22.73% of customers who downgraded have also cancelled their subscriptions\n"
     ]
    }
   ],
   "source": [
    "# Now let's see which of those who downgraded also cancel thier subscription by using intersection\n",
    "downgraded_cancelled = set(cancel_registration_ids).intersection((set(downgrade_registration_ids)))\n",
    "print('{0:.2f}% of customers who downgraded have also cancelled their subscriptions'.format(\n",
    "    100*(len(downgraded_cancelled))/len(set(downgrade_registration_ids))))"
   ]
  },
  {
   "cell_type": "code",
   "execution_count": 220,
   "metadata": {},
   "outputs": [
    {
     "name": "stdout",
     "output_type": "stream",
     "text": [
      "+------+---------+---------+-------------+\n",
      "|userID|     page|firstName|           ts|\n",
      "+------+---------+---------+-------------+\n",
      "|100025|Downgrade|   London|1539928455000|\n",
      "|100025|Downgrade|   London|1539939105000|\n",
      "|100025|Downgrade|   London|1539943902000|\n",
      "|100025|Downgrade|   London|1539943993000|\n",
      "|100025|Downgrade|   London|1539968727000|\n",
      "|100025|   Cancel|   London|1540298979000|\n",
      "+------+---------+---------+-------------+\n",
      "\n"
     ]
    }
   ],
   "source": [
    "df.filter((psqf.col('userID') == list(downgraded_cancelled)[0]) &\n",
    "                  (psqf.col('page').isin(['Downgrade','Cancel']))).select(['userID','page', 'firstName','ts']).show()"
   ]
  },
  {
   "cell_type": "code",
   "execution_count": 221,
   "metadata": {},
   "outputs": [],
   "source": [
    "#convert the timestamps to understand the trend.\n",
    "ts_udf = psqf.udf(lambda x: datetime.datetime.utcfromtimestamp(x/1000.0).strftime('%Y-%m-%d %H:%M:%S'))"
   ]
  },
  {
   "cell_type": "code",
   "execution_count": 222,
   "metadata": {},
   "outputs": [],
   "source": [
    "df = df.select('*').withColumn('ts_datetime', ts_udf(psqf.col('ts')))"
   ]
  },
  {
   "cell_type": "code",
   "execution_count": 223,
   "metadata": {},
   "outputs": [
    {
     "name": "stdout",
     "output_type": "stream",
     "text": [
      "+------+-------------------------+---------+-------------+-------------------+\n",
      "|userID|page                     |firstName|ts           |ts_datetime        |\n",
      "+------+-------------------------+---------+-------------+-------------------+\n",
      "|129   |Downgrade                |Davis    |1538896047000|2018-10-07 07:07:27|\n",
      "|129   |Downgrade                |Davis    |1538911363000|2018-10-07 11:22:43|\n",
      "|129   |Downgrade                |Davis    |1538923089000|2018-10-07 14:38:09|\n",
      "|129   |Downgrade                |Davis    |1539010046000|2018-10-08 14:47:26|\n",
      "|129   |Downgrade                |Davis    |1539347207000|2018-10-12 12:26:47|\n",
      "|129   |Downgrade                |Davis    |1539362366000|2018-10-12 16:39:26|\n",
      "|129   |Downgrade                |Davis    |1539367200000|2018-10-12 18:00:00|\n",
      "|129   |Downgrade                |Davis    |1539736068000|2018-10-17 00:27:48|\n",
      "|129   |Cancel                   |Davis    |1539736069000|2018-10-17 00:27:49|\n",
      "|129   |Cancellation Confirmation|Davis    |1539736161000|2018-10-17 00:29:21|\n",
      "+------+-------------------------+---------+-------------+-------------------+\n",
      "\n"
     ]
    }
   ],
   "source": [
    "df.filter((psqf.col('userID') == list(downgraded_cancelled)[1]) &\n",
    "                  (psqf.col('page').isin(['Downgrade','Cancel', 'Cancellation Confirmation']))).select(['userID','page', 'firstName','ts', 'ts_datetime']).show(25, False)"
   ]
  },
  {
   "cell_type": "markdown",
   "metadata": {},
   "source": [
    "# Exploratory Data Analysis\n",
    "When you're working with the full dataset, perform EDA by loading a small subset of the data and doing basic manipulations within Spark. In this workspace, you are already provided a small subset of data you can explore.\n",
    "\n",
    "### Define Churn\n",
    "\n",
    "Once you've done some preliminary analysis, create a column `Churn` to use as the label for your model. I suggest using the `Cancellation Confirmation` events to define your churn, which happen for both paid and free users. As a bonus task, you can also look into the `Downgrade` events.\n",
    "\n",
    "### Explore Data\n",
    "Once you've defined churn, perform some exploratory data analysis to observe the behavior for users who stayed vs users who churned. You can start by exploring aggregates on these two groups of users, observing how much of a specific action they experienced per a certain time unit or number of songs played."
   ]
  },
  {
   "cell_type": "code",
   "execution_count": 224,
   "metadata": {},
   "outputs": [
    {
     "name": "stdout",
     "output_type": "stream",
     "text": [
      "+------+-----+\n",
      "|userId|label|\n",
      "+------+-----+\n",
      "|100010|    0|\n",
      "|200002|    0|\n",
      "|   125|    1|\n",
      "|   124|    0|\n",
      "|    51|    1|\n",
      "|     7|    0|\n",
      "|    15|    0|\n",
      "|    54|    1|\n",
      "|   155|    0|\n",
      "|   132|    0|\n",
      "|   154|    0|\n",
      "|100014|    1|\n",
      "|   101|    1|\n",
      "|    11|    0|\n",
      "|   138|    0|\n",
      "|300017|    0|\n",
      "|    29|    1|\n",
      "|    69|    0|\n",
      "|100021|    1|\n",
      "|   112|    0|\n",
      "+------+-----+\n",
      "only showing top 20 rows\n",
      "\n"
     ]
    }
   ],
   "source": [
    "#Lets look at the churn log\n",
    "\n",
    "churn_log = df.groupby('userId').agg(psqf.collect_list('page').alias('pages'))\n",
    "# define 1 as churned, 0 otherwise\n",
    "label = psqf.udf(lambda x: 1 if 'Cancel' in set(x) else 0)\n",
    "churn_log = churn_log.withColumn(\"label\", label(churn_log.pages)).drop('pages')\n",
    "churn_log.show()"
   ]
  },
  {
   "cell_type": "code",
   "execution_count": 225,
   "metadata": {},
   "outputs": [
    {
     "name": "stdout",
     "output_type": "stream",
     "text": [
      "+------+-----+--------------------+---------+---------+------+-------------+---------+---------+-----+--------------------+------+---------+-------------+---------+--------------------+------+-------------+--------------------+-------------------+\n",
      "|userId|label|              artist|     auth|firstName|gender|itemInSession| lastName|   length|level|            location|method|     page| registration|sessionId|                song|status|           ts|           userAgent|        ts_datetime|\n",
      "+------+-----+--------------------+---------+---------+------+-------------+---------+---------+-----+--------------------+------+---------+-------------+---------+--------------------+------+-------------+--------------------+-------------------+\n",
      "|100010|    0|Sleeping With Sirens|Logged In| Darianna|     F|            0|Carpenter|202.97098| free|Bridgeport-Stamfo...|   PUT| NextSong|1538016340000|       31|Captain Tyin Knot...|   200|1539003534000|\"Mozilla/5.0 (iPh...|2018-10-08 12:58:54|\n",
      "|100010|    0|Francesca Battist...|Logged In| Darianna|     F|            1|Carpenter|196.54485| free|Bridgeport-Stamfo...|   PUT| NextSong|1538016340000|       31|Beautiful_ Beauti...|   200|1539003736000|\"Mozilla/5.0 (iPh...|2018-10-08 13:02:16|\n",
      "|100010|    0|              Brutha|Logged In| Darianna|     F|            2|Carpenter|263.13098| free|Bridgeport-Stamfo...|   PUT| NextSong|1538016340000|       31|          She's Gone|   200|1539003932000|\"Mozilla/5.0 (iPh...|2018-10-08 13:05:32|\n",
      "|100010|    0|                null|Logged In| Darianna|     F|            3|Carpenter|     null| free|Bridgeport-Stamfo...|   PUT|Thumbs Up|1538016340000|       31|                null|   307|1539003933000|\"Mozilla/5.0 (iPh...|2018-10-08 13:05:33|\n",
      "|100010|    0|         Josh Ritter|Logged In| Darianna|     F|            4|Carpenter|316.23791| free|Bridgeport-Stamfo...|   PUT| NextSong|1538016340000|       31|      Folk Bloodbath|   200|1539004195000|\"Mozilla/5.0 (iPh...|2018-10-08 13:09:55|\n",
      "+------+-----+--------------------+---------+---------+------+-------------+---------+---------+-----+--------------------+------+---------+-------------+---------+--------------------+------+-------------+--------------------+-------------------+\n",
      "only showing top 5 rows\n",
      "\n"
     ]
    }
   ],
   "source": [
    "#combine the new created churn_tag with the df\n",
    "dfnew  = churn_log.join(df, 'userId')\n",
    "dfnew.show(5)"
   ]
  },
  {
   "cell_type": "code",
   "execution_count": 226,
   "metadata": {},
   "outputs": [
    {
     "name": "stdout",
     "output_type": "stream",
     "text": [
      "+-----+------+\n",
      "|label| count|\n",
      "+-----+------+\n",
      "|    0|241636|\n",
      "|    1| 44864|\n",
      "+-----+------+\n",
      "\n"
     ]
    }
   ],
   "source": [
    "churned_count = dfnew.groupby(\"label\").count().show()"
   ]
  },
  {
   "cell_type": "code",
   "execution_count": 227,
   "metadata": {},
   "outputs": [
    {
     "name": "stdout",
     "output_type": "stream",
     "text": [
      "+-----+--------------+\n",
      "|label|downgradeCount|\n",
      "+-----+--------------+\n",
      "|    0|          1718|\n",
      "|    1|           337|\n",
      "+-----+--------------+\n",
      "\n"
     ]
    }
   ],
   "source": [
    "# number of downgrades for churned vs active users\n",
    "downgrade_count = dfnew.where((psqf.col(\"page\")=='Downgrade')).groupby(\"label\").agg(psqf.count(psqf.col('page')).alias('downgradeCount'))\n",
    "downgrade_count.show(5)"
   ]
  },
  {
   "cell_type": "code",
   "execution_count": 228,
   "metadata": {},
   "outputs": [
    {
     "data": {
      "image/png": "[encoded data removed]",
      "text/plain": [
       "<Figure size 432x288 with 1 Axes>"
      ]
     },
     "metadata": {
      "needs_background": "light"
     },
     "output_type": "display_data"
    }
   ],
   "source": [
    "#compare paid vs free against churn tag\n",
    "use_level_count = dfnew.groupby('userId', 'level', 'label').count()\n",
    "use_level_count_pd  = use_level_count.select(\"userId\", \"level\", 'label').toPandas()\n",
    "use_level_count_pd[['level', 'label']].groupby(['level', 'label']).agg({'label':'count'}).unstack().plot(kind='bar');\n",
    "plt.title('churned vs customer level')\n",
    "plt.ylabel('customer count');"
   ]
  },
  {
   "cell_type": "code",
   "execution_count": 229,
   "metadata": {},
   "outputs": [
    {
     "data": {
      "image/png": "[encoded data removed]",
      "text/plain": [
       "<Figure size 432x288 with 1 Axes>"
      ]
     },
     "metadata": {
      "needs_background": "light"
     },
     "output_type": "display_data"
    }
   ],
   "source": [
    "use_level_count_pd.label.value_counts().plot(kind='bar');\n",
    "plt.ylabel('User count')\n",
    "plt.xlabel('label')\n",
    "plt.title('Churned vs active customer count');"
   ]
  },
  {
   "cell_type": "code",
   "execution_count": 230,
   "metadata": {},
   "outputs": [
    {
     "name": "stdout",
     "output_type": "stream",
     "text": [
      "+-----+---------+-----+\n",
      "|label|     page|count|\n",
      "+-----+---------+-----+\n",
      "|    1|Downgrade|  337|\n",
      "|    0|Downgrade| 1718|\n",
      "+-----+---------+-----+\n",
      "\n"
     ]
    }
   ],
   "source": [
    "# count downgrade events per user\n",
    "downgrade_events_user = dfnew.filter(psqf.col('page') == 'Downgrade').groupBy('label','page').count()\n",
    "downgrade_events_user.show(2)"
   ]
  },
  {
   "cell_type": "code",
   "execution_count": 231,
   "metadata": {},
   "outputs": [
    {
     "name": "stdout",
     "output_type": "stream",
     "text": [
      "+-----+------+-----+\n",
      "|label|gender|count|\n",
      "+-----+------+-----+\n",
      "|    0|     M|   89|\n",
      "|    0|  null|    1|\n",
      "|    1|     M|   32|\n",
      "|    0|     F|   84|\n",
      "|    1|     F|   20|\n",
      "+-----+------+-----+\n",
      "\n"
     ]
    }
   ],
   "source": [
    "dfnew.groupBy('userId','label','gender').count().select('label', 'gender').groupBy('label','gender').count().show()"
   ]
  },
  {
   "cell_type": "code",
   "execution_count": 232,
   "metadata": {},
   "outputs": [
    {
     "data": {
      "text/plain": [
       "<matplotlib.axes._subplots.AxesSubplot at 0x1a1fb7c110>"
      ]
     },
     "execution_count": 232,
     "metadata": {},
     "output_type": "execute_result"
    },
    {
     "data": {
      "image/png": "[encoded data removed]",
      "text/plain": [
       "<Figure size 432x288 with 1 Axes>"
      ]
     },
     "metadata": {
      "needs_background": "light"
     },
     "output_type": "display_data"
    }
   ],
   "source": [
    "#show the distribution of operations 0 = active, 1 churn\n",
    "dfchurn = dfnew.groupby(\"label\", \"userId\", \"sessionId\").count().toPandas()\n",
    "sns.boxplot(x='count', y='label', orient=\"h\", data=dfchurn)"
   ]
  },
  {
   "cell_type": "raw",
   "metadata": {},
   "source": [
    "There are so many items we have looked at but Which of those features can be useful to define churn? ts: we can get information like total number of hours a customer played songs song: we can get the number of songs a customer played and how long was the user logged in the system. Page column can help us find the number of ThumbsUp, ThumbsDown, and Downgrades"
   ]
  },
  {
   "cell_type": "code",
   "execution_count": 233,
   "metadata": {},
   "outputs": [
    {
     "name": "stdout",
     "output_type": "stream",
     "text": [
      "+------+-----------+\n",
      "|userId|SongsPlayed|\n",
      "+------+-----------+\n",
      "|    10|        673|\n",
      "|   100|       2682|\n",
      "|100001|        133|\n",
      "|100002|        195|\n",
      "|100003|         51|\n",
      "+------+-----------+\n",
      "only showing top 5 rows\n",
      "\n"
     ]
    }
   ],
   "source": [
    "# Number of songs each user played\n",
    "songsplayed = dfnew.where(psqf.col('song')!='null').groupby(\"userId\").agg(psqf.count(psqf.col('song')).alias('SongsPlayed')).orderBy('userId')\n",
    "songsplayed.show(5)"
   ]
  },
  {
   "cell_type": "code",
   "execution_count": 234,
   "metadata": {},
   "outputs": [
    {
     "name": "stdout",
     "output_type": "stream",
     "text": [
      "+------+-------------+-------------+\n",
      "|userId|           ts|         hour|\n",
      "+------+-------------+-------------+\n",
      "|100010|1539003534000|2018-10-08-12|\n",
      "|100010|1539003736000|2018-10-08-13|\n",
      "|100010|1539003932000|2018-10-08-13|\n",
      "|100010|1539003933000|2018-10-08-13|\n",
      "|100010|1539004195000|2018-10-08-13|\n",
      "+------+-------------+-------------+\n",
      "only showing top 5 rows\n",
      "\n"
     ]
    }
   ],
   "source": [
    "# Number of hours a customer logged in the system\n",
    "hours_udf = psqf.udf(lambda x: datetime.datetime.utcfromtimestamp(x/1000.0).strftime('%Y-%m-%d-%H'))\n",
    "hours_df  = dfnew.select('userId', 'ts').withColumn('hour', hours_udf(psqf.col('ts')))\n",
    "hours_df.show(5)"
   ]
  },
  {
   "cell_type": "code",
   "execution_count": 235,
   "metadata": {},
   "outputs": [
    {
     "name": "stdout",
     "output_type": "stream",
     "text": [
      "+------+---------+\n",
      "|userId|HourCount|\n",
      "+------+---------+\n",
      "|      |     1306|\n",
      "|    10|       51|\n",
      "|   100|      218|\n",
      "|100001|       14|\n",
      "|100002|       18|\n",
      "+------+---------+\n",
      "only showing top 5 rows\n",
      "\n"
     ]
    }
   ],
   "source": [
    "# Now group by Hour to see how many hours a user was logged in\n",
    "hour_count_df = hours_df.where(psqf.col('userId')!='null').groupby('userId').agg((psqf.countDistinct(psqf.col('hour'))).alias(\"HourCount\")).orderBy('userId')\n",
    "hour_count_df.show(5)"
   ]
  },
  {
   "cell_type": "code",
   "execution_count": 236,
   "metadata": {},
   "outputs": [
    {
     "name": "stdout",
     "output_type": "stream",
     "text": [
      "+------+-----+--------------------+---------+---------+------+-------------+---------+---------+-----+--------------------+------+---------+-------------+---------+--------------------+------+-------------+--------------------+-------------------+\n",
      "|userId|label|              artist|     auth|firstName|gender|itemInSession| lastName|   length|level|            location|method|     page| registration|sessionId|                song|status|           ts|           userAgent|        ts_datetime|\n",
      "+------+-----+--------------------+---------+---------+------+-------------+---------+---------+-----+--------------------+------+---------+-------------+---------+--------------------+------+-------------+--------------------+-------------------+\n",
      "|100010|    0|Sleeping With Sirens|Logged In| Darianna|     F|            0|Carpenter|202.97098| free|Bridgeport-Stamfo...|   PUT| NextSong|1538016340000|       31|Captain Tyin Knot...|   200|1539003534000|\"Mozilla/5.0 (iPh...|2018-10-08 12:58:54|\n",
      "|100010|    0|Francesca Battist...|Logged In| Darianna|     F|            1|Carpenter|196.54485| free|Bridgeport-Stamfo...|   PUT| NextSong|1538016340000|       31|Beautiful_ Beauti...|   200|1539003736000|\"Mozilla/5.0 (iPh...|2018-10-08 13:02:16|\n",
      "|100010|    0|              Brutha|Logged In| Darianna|     F|            2|Carpenter|263.13098| free|Bridgeport-Stamfo...|   PUT| NextSong|1538016340000|       31|          She's Gone|   200|1539003932000|\"Mozilla/5.0 (iPh...|2018-10-08 13:05:32|\n",
      "|100010|    0|                null|Logged In| Darianna|     F|            3|Carpenter|     null| free|Bridgeport-Stamfo...|   PUT|Thumbs Up|1538016340000|       31|                null|   307|1539003933000|\"Mozilla/5.0 (iPh...|2018-10-08 13:05:33|\n",
      "|100010|    0|         Josh Ritter|Logged In| Darianna|     F|            4|Carpenter|316.23791| free|Bridgeport-Stamfo...|   PUT| NextSong|1538016340000|       31|      Folk Bloodbath|   200|1539004195000|\"Mozilla/5.0 (iPh...|2018-10-08 13:09:55|\n",
      "+------+-----+--------------------+---------+---------+------+-------------+---------+---------+-----+--------------------+------+---------+-------------+---------+--------------------+------+-------------+--------------------+-------------------+\n",
      "only showing top 5 rows\n",
      "\n"
     ]
    }
   ],
   "source": [
    "# filter out rows with userId == null\n",
    "dfnew = dfnew.where(psqf.col('userId')!='null')\n",
    "dfnew.show(5)"
   ]
  },
  {
   "cell_type": "code",
   "execution_count": 237,
   "metadata": {},
   "outputs": [
    {
     "name": "stdout",
     "output_type": "stream",
     "text": [
      "+------+-------------+\n",
      "|userId|thumbsUpCount|\n",
      "+------+-------------+\n",
      "|10    |37           |\n",
      "|100   |148          |\n",
      "|100001|8            |\n",
      "|100002|5            |\n",
      "|100003|3            |\n",
      "+------+-------------+\n",
      "only showing top 5 rows\n",
      "\n"
     ]
    }
   ],
   "source": [
    "thumbsup_count = dfnew.where((psqf.col('page')=='Thumbs Up') &(psqf.col('userId')!='null')).groupby(\"userId\").agg(psqf.count(psqf.col('page')).alias('thumbsUpCount')).orderBy('userId')\n",
    "thumbsup_count.show(5, False)"
   ]
  },
  {
   "cell_type": "code",
   "execution_count": 238,
   "metadata": {},
   "outputs": [
    {
     "name": "stdout",
     "output_type": "stream",
     "text": [
      "+------+---------------+\n",
      "|userId|thumbsDownCount|\n",
      "+------+---------------+\n",
      "|    10|              4|\n",
      "|   100|             27|\n",
      "|100001|              2|\n",
      "|100004|             11|\n",
      "|100005|              3|\n",
      "+------+---------------+\n",
      "only showing top 5 rows\n",
      "\n"
     ]
    }
   ],
   "source": [
    "thumbsdown_count = dfnew.where((psqf.col(\"page\")=='Thumbs Down')&(psqf.col('userId')!='null')).groupby(\"userId\").agg(psqf.count(psqf.col('page')).alias('thumbsDownCount')).orderBy('userId')\n",
    "thumbsdown_count.show(5)"
   ]
  },
  {
   "cell_type": "code",
   "execution_count": null,
   "metadata": {},
   "outputs": [],
   "source": []
  },
  {
   "cell_type": "markdown",
   "metadata": {},
   "source": [
    "# Feature Engineering\n",
    "Once you've familiarized yourself with the data, build out the features you find promising to train your model on. To work with the full dataset, you can follow the following steps.\n",
    "- Write a script to extract the necessary features from the smaller subset of data\n",
    "- Ensure that your script is scalable, using the best practices discussed in Lesson 3\n",
    "- Try your script on the full data set, debugging your script if necessary\n",
    "\n",
    "If you are working in the classroom workspace, you can just extract features based on the small subset of data contained here. Be sure to transfer over this work to the larger dataset when you work on your Spark cluster."
   ]
  },
  {
   "cell_type": "code",
   "execution_count": 239,
   "metadata": {},
   "outputs": [
    {
     "name": "stdout",
     "output_type": "stream",
     "text": [
      "+------+-----+-----------+---------+-------------+---------------+\n",
      "|userId|label|SongsPlayed|HourCount|thumbsUpCount|thumbsDownCount|\n",
      "+------+-----+-----------+---------+-------------+---------------+\n",
      "|100010|    0|        275|       26|           17|              5|\n",
      "|200002|    0|        387|       32|           21|              6|\n",
      "|   124|    0|       4079|      306|          171|             41|\n",
      "|    51|    1|       2111|      156|          100|             21|\n",
      "|     7|    0|        150|       18|            7|              1|\n",
      "+------+-----+-----------+---------+-------------+---------------+\n",
      "only showing top 5 rows\n",
      "\n"
     ]
    }
   ],
   "source": [
    "## combine all the features\n",
    "features_df = churn_log.join(songsplayed, \"userId\").\\\n",
    "join(hour_count_df, \"userId\").join(thumbsup_count, \"userId\").join(thumbsdown_count, \"userId\")\n",
    "features_df.show(5)"
   ]
  },
  {
   "cell_type": "code",
   "execution_count": 240,
   "metadata": {},
   "outputs": [
    {
     "name": "stdout",
     "output_type": "stream",
     "text": [
      "+-----+--------------------+\n",
      "|label|         rawFeatures|\n",
      "+-----+--------------------+\n",
      "|    0|[275.0,26.0,17.0,...|\n",
      "|    0|[387.0,32.0,21.0,...|\n",
      "|    0|[4079.0,306.0,171...|\n",
      "|    1|[2111.0,156.0,100...|\n",
      "+-----+--------------------+\n",
      "only showing top 4 rows\n",
      "\n"
     ]
    }
   ],
   "source": [
    "assembler = VectorAssembler(inputCols=[\"SongsPlayed\", \"HourCount\", \"thumbsUpCount\", \"thumbsDownCount\"], outputCol=\"rawFeatures\")\n",
    "features_df = assembler.transform(features_df)\n",
    "features_df.select('label', 'rawFeatures').show(4)"
   ]
  },
  {
   "cell_type": "code",
   "execution_count": 241,
   "metadata": {},
   "outputs": [],
   "source": [
    "scaler = StandardScaler(inputCol=\"rawFeatures\", outputCol=\"features\", withStd=True)\n",
    "scalerModel = scaler.fit(features_df)\n",
    "features_df = scalerModel.transform(features_df)"
   ]
  },
  {
   "cell_type": "code",
   "execution_count": 242,
   "metadata": {},
   "outputs": [
    {
     "name": "stdout",
     "output_type": "stream",
     "text": [
      "+-----+--------------------+\n",
      "|label|            features|\n",
      "+-----+--------------------+\n",
      "|    0|[0.24639992057147...|\n",
      "|    0|[0.34675188822240...|\n",
      "+-----+--------------------+\n",
      "only showing top 2 rows\n",
      "\n"
     ]
    }
   ],
   "source": [
    "input_data = features_df.withColumn('label', psqf.col('label').cast(psqt.IntegerType())).select('label', 'features')\n",
    "input_data.show(2)"
   ]
  },
  {
   "cell_type": "code",
   "execution_count": 243,
   "metadata": {},
   "outputs": [],
   "source": [
    "# Index labels, adding metadata to the label column.\n",
    "# Fit on whole dataset to include all labels in index.\n",
    "labelIndexer = StringIndexer(inputCol=\"label\", outputCol=\"indexedLabel\").fit(input_data)"
   ]
  },
  {
   "cell_type": "code",
   "execution_count": 244,
   "metadata": {},
   "outputs": [],
   "source": [
    "# Automatically identify categorical features, and index them.\n",
    "# Set maxCategories so features with > 4 distinct values are treated as continuous.\n",
    "featureIndexer =\\\n",
    "    VectorIndexer(inputCol=\"features\", outputCol=\"indexedFeatures\", maxCategories=4).fit(input_data)"
   ]
  },
  {
   "cell_type": "markdown",
   "metadata": {},
   "source": [
    "# Modeling\n",
    "Split the full dataset into train, test, and validation sets. Test out several of the machine learning methods you learned. Evaluate the accuracy of the various models, tuning parameters as necessary. Determine your winning model based on test accuracy and report results on the validation set. Since the churned users are a fairly small subset, I suggest using F1 score as the metric to optimize."
   ]
  },
  {
   "cell_type": "code",
   "execution_count": 245,
   "metadata": {},
   "outputs": [],
   "source": [
    "# Split the data into training and test sets \n",
    "(trainingData, testData) = input_data.randomSplit([0.7, 0.3])\n"
   ]
  },
  {
   "cell_type": "code",
   "execution_count": 246,
   "metadata": {},
   "outputs": [],
   "source": [
    "# Train a RandomForest model.\n",
    "rf = RandomForestClassifier(labelCol=\"indexedLabel\", featuresCol=\"indexedFeatures\", numTrees=10)\n",
    "# Convert indexed labels back to original labels.\n",
    "labelConverter = IndexToString(inputCol=\"prediction\", outputCol=\"predictedLabel\",\n",
    "                               labels=labelIndexer.labels)\n",
    "\n",
    "\n",
    "# Chain indexers and forest in a Pipeline\n",
    "pipeline = Pipeline(stages=[labelIndexer, featureIndexer, rf, labelConverter])"
   ]
  },
  {
   "cell_type": "code",
   "execution_count": 247,
   "metadata": {},
   "outputs": [],
   "source": [
    "# Train model.  This also runs the indexers.\n",
    "model = pipeline.fit(trainingData)"
   ]
  },
  {
   "cell_type": "code",
   "execution_count": 248,
   "metadata": {},
   "outputs": [
    {
     "name": "stdout",
     "output_type": "stream",
     "text": [
      "+--------------+-----+--------------------+\n",
      "|predictedLabel|label|            features|\n",
      "+--------------+-----+--------------------+\n",
      "|             1|    0|[0.34675188822240...|\n",
      "|             0|    1|[1.89145539027778...|\n",
      "|             0|    0|[0.73471976315859...|\n",
      "|             0|    1|[0.23027192577043...|\n",
      "|             0|    1|[1.61011148097071...|\n",
      "|             0|    0|[0.19263993790133...|\n",
      "|             0|    0|[0.22489592750342...|\n",
      "|             0|    1|[0.61017580330609...|\n",
      "|             0|    0|[0.60479980503908...|\n",
      "|             0|    0|[1.24812759765843...|\n",
      "+--------------+-----+--------------------+\n",
      "only showing top 10 rows\n",
      "\n",
      "Validation Error = 0.261538\n",
      "RandomForestClassificationModel (uid=RandomForestClassifier_a70490428681) with 10 trees\n"
     ]
    }
   ],
   "source": [
    "# Make predictions.\n",
    "predictions = model.transform(testData)\n",
    "\n",
    "# Select example rows to display.\n",
    "predictions.select(\"predictedLabel\", \"label\", \"features\").show(10)\n",
    "\n",
    "# Select (prediction, true label) and compute test error\n",
    "evaluator = MulticlassClassificationEvaluator(\n",
    "    labelCol=\"indexedLabel\", predictionCol=\"prediction\", metricName=\"accuracy\")\n",
    "accuracy = evaluator.evaluate(predictions)\n",
    "print(\"Validation Error = %g\" % (1.0 - accuracy))\n",
    "\n",
    "rfModel = model.stages[2]\n",
    "#rfModel = model.stages\n",
    "print(rfModel)  # summary only"
   ]
  },
  {
   "cell_type": "code",
   "execution_count": 249,
   "metadata": {},
   "outputs": [
    {
     "name": "stdout",
     "output_type": "stream",
     "text": [
      "F1 score = 0.693215\n"
     ]
    }
   ],
   "source": [
    "f1_score_evaluator = MulticlassClassificationEvaluator(labelCol=\"indexedLabel\", predictionCol=\"prediction\",metricName='f1')\n",
    "f1_score = f1_score_evaluator.evaluate(predictions)\n",
    "print(\"F1 score = %g\" % (f1_score))"
   ]
  },
  {
   "cell_type": "code",
   "execution_count": 257,
   "metadata": {},
   "outputs": [
    {
     "name": "stdout",
     "output_type": "stream",
     "text": [
      "+----------+------------+--------------------+\n",
      "|prediction|indexedLabel|            features|\n",
      "+----------+------------+--------------------+\n",
      "|       1.0|         0.0|[0.34675188822240...|\n",
      "|       0.0|         1.0|[1.89145539027778...|\n",
      "|       0.0|         0.0|[0.73471976315859...|\n",
      "|       0.0|         1.0|[0.23027192577043...|\n",
      "|       0.0|         1.0|[1.61011148097071...|\n",
      "+----------+------------+--------------------+\n",
      "only showing top 5 rows\n",
      "\n",
      "Test Error = 0.338462\n",
      "GBTClassificationModel (uid=GBTClassifier_3e75f109aab8) with 10 trees\n"
     ]
    }
   ],
   "source": [
    "from pyspark.ml import Pipeline\n",
    "from pyspark.ml.classification import GBTClassifier\n",
    "from pyspark.ml.feature import StringIndexer, VectorIndexer\n",
    "from pyspark.ml.evaluation import MulticlassClassificationEvaluator\n",
    "\n",
    "# Train a GBT model.\n",
    "gbt = GBTClassifier(labelCol=\"indexedLabel\", featuresCol=\"indexedFeatures\", maxIter=10)\n",
    "\n",
    "# Chain indexers and GBT in a Pipeline\n",
    "pipeline = Pipeline(stages=[labelIndexer, featureIndexer, gbt])\n",
    "\n",
    "# Train model.  This also runs the indexers.\n",
    "model = pipeline.fit(trainingData)\n",
    "\n",
    "# Make predictions.\n",
    "predictions = model.transform(testData)\n",
    "\n",
    "# Select example rows to display.\n",
    "predictions.select(\"prediction\", \"indexedLabel\", \"features\").show(5)\n",
    "\n",
    "# Select (prediction, true label) and compute test error\n",
    "evaluator = MulticlassClassificationEvaluator(\n",
    "    labelCol=\"indexedLabel\", predictionCol=\"prediction\", metricName=\"accuracy\")\n",
    "accuracy = evaluator.evaluate(predictions)\n",
    "print(\"Validation Error = %g\" % (1.0 - accuracy))\n",
    "\n",
    "gbtModel = model.stages[2]\n",
    "print(gbtModel)  # summary only"
   ]
  },
  {
   "cell_type": "code",
   "execution_count": 258,
   "metadata": {},
   "outputs": [
    {
     "name": "stdout",
     "output_type": "stream",
     "text": [
      "F1 score = 0.642012\n"
     ]
    }
   ],
   "source": [
    "f1_score_evaluator = MulticlassClassificationEvaluator(labelCol=\"indexedLabel\", predictionCol=\"prediction\",metricName='f1')\n",
    "f1_score = f1_score_evaluator.evaluate(predictions)\n",
    "print(\"F1 score = %g\" % (f1_score))"
   ]
  },
  {
   "cell_type": "code",
   "execution_count": 250,
   "metadata": {},
   "outputs": [],
   "source": [
    "rfc = RandomForestClassifier(labelCol=\"indexedLabel\", featuresCol=\"indexedFeatures\")\n",
    "# Chain indexers and forest in a Pipeline\n",
    "pipeline = Pipeline(stages=[labelIndexer, featureIndexer, rfc, labelConverter])\n",
    "param_grid = ParamGridBuilder().addGrid(rfc.numTrees, [10, 15]).addGrid(rfc.maxDepth, [2, 5]).build()\n",
    "cv = CrossValidator(estimator=pipeline, \n",
    "                    estimatorParamMaps = param_grid, \n",
    "                    evaluator = MulticlassClassificationEvaluator(metricName='f1'),\n",
    "                    numFolds=3)\n",
    "\n",
    "best_model = cv.fit(trainingData)"
   ]
  },
  {
   "cell_type": "code",
   "execution_count": null,
   "metadata": {},
   "outputs": [],
   "source": []
  },
  {
   "cell_type": "code",
   "execution_count": 251,
   "metadata": {},
   "outputs": [],
   "source": [
    "def evaluate_model(model, data):\n",
    "    \"\"\"\n",
    "    Make prediction and evaluate model.\n",
    "    Parameters\n",
    "    -----------\n",
    "        model: model object\n",
    "    returns\n",
    "    -------\n",
    "        None\n",
    "    \"\"\"\n",
    "    predictions = model.transform(data)\n",
    "\n",
    "    # Select example rows to display.\n",
    "    predictions.select(\"predictedLabel\", \"label\", \"features\").show(5)\n",
    "\n",
    "    # Select (prediction, true label) and compute test error\n",
    "    evaluator = MulticlassClassificationEvaluator(\n",
    "        labelCol=\"indexedLabel\", predictionCol=\"prediction\", metricName=\"accuracy\")\n",
    "    accuracy = evaluator.evaluate(predictions)\n",
    "    print(\"Error = %g\" % (1.0 - accuracy))\n",
    "    f1_score_evaluator = MulticlassClassificationEvaluator(labelCol=\"indexedLabel\", predictionCol=\"prediction\",metricName='f1')\n",
    "    f1_score = f1_score_evaluator.evaluate(predictions)\n",
    "    print(\"F1 score = %g\" % (f1_score))"
   ]
  },
  {
   "cell_type": "code",
   "execution_count": 254,
   "metadata": {},
   "outputs": [
    {
     "name": "stdout",
     "output_type": "stream",
     "text": [
      "+--------------+-----+--------------------+\n",
      "|predictedLabel|label|            features|\n",
      "+--------------+-----+--------------------+\n",
      "|             1|    0|[0.34675188822240...|\n",
      "|             0|    1|[1.89145539027778...|\n",
      "|             0|    0|[0.73471976315859...|\n",
      "|             0|    1|[0.23027192577043...|\n",
      "|             0|    1|[1.61011148097071...|\n",
      "+--------------+-----+--------------------+\n",
      "only showing top 5 rows\n",
      "\n",
      "Error = 0.261538\n",
      "F1 score = 0.693215\n"
     ]
    }
   ],
   "source": [
    "evaluate_model(model=best_model, data=testData)"
   ]
  },
  {
   "cell_type": "code",
   "execution_count": 255,
   "metadata": {},
   "outputs": [
    {
     "name": "stdout",
     "output_type": "stream",
     "text": [
      "+--------------+-----+--------------------+\n",
      "|predictedLabel|label|            features|\n",
      "+--------------+-----+--------------------+\n",
      "|             0|    0|[0.24639992057147...|\n",
      "|             0|    0|[0.13439995667535...|\n",
      "|             0|    0|[3.65478282185840...|\n",
      "|             0|    0|[1.71494344717749...|\n",
      "|             0|    1|[2.54553517943116...|\n",
      "+--------------+-----+--------------------+\n",
      "only showing top 5 rows\n",
      "\n",
      "Error = 0.10219\n",
      "F1 score = 0.890671\n"
     ]
    }
   ],
   "source": [
    "evaluate_model(model=best_model, data=trainingData)"
   ]
  },
  {
   "cell_type": "code",
   "execution_count": 256,
   "metadata": {},
   "outputs": [
    {
     "name": "stdout",
     "output_type": "stream",
     "text": [
      "+--------------+-----+--------------------+\n",
      "|predictedLabel|label|            features|\n",
      "+--------------+-----+--------------------+\n",
      "|             0|    0|[0.24639992057147...|\n",
      "|             1|    0|[0.34675188822240...|\n",
      "|             0|    0|[3.65478282185840...|\n",
      "|             0|    1|[1.89145539027778...|\n",
      "|             0|    0|[0.13439995667535...|\n",
      "+--------------+-----+--------------------+\n",
      "only showing top 5 rows\n",
      "\n",
      "Error = 0.153465\n",
      "F1 score = 0.831527\n"
     ]
    }
   ],
   "source": [
    "evaluate_model(model=best_model, data=features_df)"
   ]
  },
  {
   "cell_type": "markdown",
   "metadata": {},
   "source": [
    "# Final Steps\n",
    "Clean up your code, adding comments and renaming variables to make the code easier to read and maintain. Refer to the Spark Project Overview page and Data Scientist Capstone Project Rubric to make sure you are including all components of the capstone project and meet all expectations. Remember, this includes thorough documentation in a README file in a Github repository, as well as a web app or blog post."
   ]
  },
  {
   "cell_type": "code",
   "execution_count": null,
   "metadata": {},
   "outputs": [],
   "source": []
  }
 ],
 "metadata": {
  "kernelspec": {
   "display_name": "Python 3",
   "language": "python",
   "name": "python3"
  },
  "language_info": {
   "codemirror_mode": {
    "name": "ipython",
    "version": 3
   },
   "file_extension": ".py",
   "mimetype": "text/x-python",
   "name": "python",
   "nbconvert_exporter": "python",
   "pygments_lexer": "ipython3",
   "version": "3.7.4"
  }
 },
 "nbformat": 4,
 "nbformat_minor": 2
}
